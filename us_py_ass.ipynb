{
  "cells": [
    {
      "cell_type": "markdown",
      "metadata": {
        "id": "view-in-github",
        "colab_type": "text"
      },
      "source": [
        "<a href=\"https://colab.research.google.com/github/umanguss/data_science_py/blob/main/us_py_ass.ipynb\" target=\"_parent\"><img src=\"https://colab.research.google.com/assets/colab-badge.svg\" alt=\"Open In Colab\"/></a>"
      ]
    },
    {
      "cell_type": "markdown",
      "metadata": {
        "id": "puIo_wYmeFyZ"
      },
      "source": []
    },
    {
      "cell_type": "markdown",
      "metadata": {
        "id": "BnTergz9eFyg"
      },
      "source": [
        "### Import the Libraries and load the dataset"
      ]
    },
    {
      "cell_type": "code",
      "execution_count": 6,
      "metadata": {
        "id": "2hASzCafeFyg"
      },
      "outputs": [],
      "source": [
        "import pandas as pd\n",
        "import numpy as np\n",
        "import seaborn as sb\n",
        "import matplotlib.pyplot as plt\n",
        "import warnings\n",
        "warnings.filterwarnings(\"ignore\")"
      ]
    },
    {
      "cell_type": "code",
      "execution_count": 9,
      "metadata": {
        "colab": {
          "base_uri": "https://localhost:8080/",
          "height": 166
        },
        "id": "78wGRJZZeFyi",
        "outputId": "b2b33704-164d-4b6f-a6a4-683964b96c8c"
      },
      "outputs": [
        {
          "output_type": "execute_result",
          "data": {
            "text/plain": [
              "   Age          Workclass  fnlwgt   Education  Education_Num  \\\n",
              "0   39          State-gov   77516   Bachelors             13   \n",
              "1   50   Self-emp-not-inc   83311   Bachelors             13   \n",
              "\n",
              "        Martial_Status        Occupation    Relationship    Race Gender  \\\n",
              "0        Never-married      Adm-clerical   Not-in-family   White   Male   \n",
              "1   Married-civ-spouse   Exec-managerial         Husband   White   Male   \n",
              "\n",
              "   Capital_Gain  Capital_Loss  Hours_per_week         Country  Target  \n",
              "0          2174             0              40   United-States   <=50K  \n",
              "1             0             0              13   United-States   <=50K  "
            ],
            "text/html": [
              "\n",
              "  <div id=\"df-280aaa01-eaa0-4ebb-af83-3508f86e637d\" class=\"colab-df-container\">\n",
              "    <div>\n",
              "<style scoped>\n",
              "    .dataframe tbody tr th:only-of-type {\n",
              "        vertical-align: middle;\n",
              "    }\n",
              "\n",
              "    .dataframe tbody tr th {\n",
              "        vertical-align: top;\n",
              "    }\n",
              "\n",
              "    .dataframe thead th {\n",
              "        text-align: right;\n",
              "    }\n",
              "</style>\n",
              "<table border=\"1\" class=\"dataframe\">\n",
              "  <thead>\n",
              "    <tr style=\"text-align: right;\">\n",
              "      <th></th>\n",
              "      <th>Age</th>\n",
              "      <th>Workclass</th>\n",
              "      <th>fnlwgt</th>\n",
              "      <th>Education</th>\n",
              "      <th>Education_Num</th>\n",
              "      <th>Martial_Status</th>\n",
              "      <th>Occupation</th>\n",
              "      <th>Relationship</th>\n",
              "      <th>Race</th>\n",
              "      <th>Gender</th>\n",
              "      <th>Capital_Gain</th>\n",
              "      <th>Capital_Loss</th>\n",
              "      <th>Hours_per_week</th>\n",
              "      <th>Country</th>\n",
              "      <th>Target</th>\n",
              "    </tr>\n",
              "  </thead>\n",
              "  <tbody>\n",
              "    <tr>\n",
              "      <th>0</th>\n",
              "      <td>39</td>\n",
              "      <td>State-gov</td>\n",
              "      <td>77516</td>\n",
              "      <td>Bachelors</td>\n",
              "      <td>13</td>\n",
              "      <td>Never-married</td>\n",
              "      <td>Adm-clerical</td>\n",
              "      <td>Not-in-family</td>\n",
              "      <td>White</td>\n",
              "      <td>Male</td>\n",
              "      <td>2174</td>\n",
              "      <td>0</td>\n",
              "      <td>40</td>\n",
              "      <td>United-States</td>\n",
              "      <td>&lt;=50K</td>\n",
              "    </tr>\n",
              "    <tr>\n",
              "      <th>1</th>\n",
              "      <td>50</td>\n",
              "      <td>Self-emp-not-inc</td>\n",
              "      <td>83311</td>\n",
              "      <td>Bachelors</td>\n",
              "      <td>13</td>\n",
              "      <td>Married-civ-spouse</td>\n",
              "      <td>Exec-managerial</td>\n",
              "      <td>Husband</td>\n",
              "      <td>White</td>\n",
              "      <td>Male</td>\n",
              "      <td>0</td>\n",
              "      <td>0</td>\n",
              "      <td>13</td>\n",
              "      <td>United-States</td>\n",
              "      <td>&lt;=50K</td>\n",
              "    </tr>\n",
              "  </tbody>\n",
              "</table>\n",
              "</div>\n",
              "    <div class=\"colab-df-buttons\">\n",
              "\n",
              "  <div class=\"colab-df-container\">\n",
              "    <button class=\"colab-df-convert\" onclick=\"convertToInteractive('df-280aaa01-eaa0-4ebb-af83-3508f86e637d')\"\n",
              "            title=\"Convert this dataframe to an interactive table.\"\n",
              "            style=\"display:none;\">\n",
              "\n",
              "  <svg xmlns=\"http://www.w3.org/2000/svg\" height=\"24px\" viewBox=\"0 -960 960 960\">\n",
              "    <path d=\"M120-120v-720h720v720H120Zm60-500h600v-160H180v160Zm220 220h160v-160H400v160Zm0 220h160v-160H400v160ZM180-400h160v-160H180v160Zm440 0h160v-160H620v160ZM180-180h160v-160H180v160Zm440 0h160v-160H620v160Z\"/>\n",
              "  </svg>\n",
              "    </button>\n",
              "\n",
              "  <style>\n",
              "    .colab-df-container {\n",
              "      display:flex;\n",
              "      gap: 12px;\n",
              "    }\n",
              "\n",
              "    .colab-df-convert {\n",
              "      background-color: #E8F0FE;\n",
              "      border: none;\n",
              "      border-radius: 50%;\n",
              "      cursor: pointer;\n",
              "      display: none;\n",
              "      fill: #1967D2;\n",
              "      height: 32px;\n",
              "      padding: 0 0 0 0;\n",
              "      width: 32px;\n",
              "    }\n",
              "\n",
              "    .colab-df-convert:hover {\n",
              "      background-color: #E2EBFA;\n",
              "      box-shadow: 0px 1px 2px rgba(60, 64, 67, 0.3), 0px 1px 3px 1px rgba(60, 64, 67, 0.15);\n",
              "      fill: #174EA6;\n",
              "    }\n",
              "\n",
              "    .colab-df-buttons div {\n",
              "      margin-bottom: 4px;\n",
              "    }\n",
              "\n",
              "    [theme=dark] .colab-df-convert {\n",
              "      background-color: #3B4455;\n",
              "      fill: #D2E3FC;\n",
              "    }\n",
              "\n",
              "    [theme=dark] .colab-df-convert:hover {\n",
              "      background-color: #434B5C;\n",
              "      box-shadow: 0px 1px 3px 1px rgba(0, 0, 0, 0.15);\n",
              "      filter: drop-shadow(0px 1px 2px rgba(0, 0, 0, 0.3));\n",
              "      fill: #FFFFFF;\n",
              "    }\n",
              "  </style>\n",
              "\n",
              "    <script>\n",
              "      const buttonEl =\n",
              "        document.querySelector('#df-280aaa01-eaa0-4ebb-af83-3508f86e637d button.colab-df-convert');\n",
              "      buttonEl.style.display =\n",
              "        google.colab.kernel.accessAllowed ? 'block' : 'none';\n",
              "\n",
              "      async function convertToInteractive(key) {\n",
              "        const element = document.querySelector('#df-280aaa01-eaa0-4ebb-af83-3508f86e637d');\n",
              "        const dataTable =\n",
              "          await google.colab.kernel.invokeFunction('convertToInteractive',\n",
              "                                                    [key], {});\n",
              "        if (!dataTable) return;\n",
              "\n",
              "        const docLinkHtml = 'Like what you see? Visit the ' +\n",
              "          '<a target=\"_blank\" href=https://colab.research.google.com/notebooks/data_table.ipynb>data table notebook</a>'\n",
              "          + ' to learn more about interactive tables.';\n",
              "        element.innerHTML = '';\n",
              "        dataTable['output_type'] = 'display_data';\n",
              "        await google.colab.output.renderOutput(dataTable, element);\n",
              "        const docLink = document.createElement('div');\n",
              "        docLink.innerHTML = docLinkHtml;\n",
              "        element.appendChild(docLink);\n",
              "      }\n",
              "    </script>\n",
              "  </div>\n",
              "\n",
              "\n",
              "<div id=\"df-0a6efec5-7e92-44b4-849c-721c721fdac7\">\n",
              "  <button class=\"colab-df-quickchart\" onclick=\"quickchart('df-0a6efec5-7e92-44b4-849c-721c721fdac7')\"\n",
              "            title=\"Suggest charts\"\n",
              "            style=\"display:none;\">\n",
              "\n",
              "<svg xmlns=\"http://www.w3.org/2000/svg\" height=\"24px\"viewBox=\"0 0 24 24\"\n",
              "     width=\"24px\">\n",
              "    <g>\n",
              "        <path d=\"M19 3H5c-1.1 0-2 .9-2 2v14c0 1.1.9 2 2 2h14c1.1 0 2-.9 2-2V5c0-1.1-.9-2-2-2zM9 17H7v-7h2v7zm4 0h-2V7h2v10zm4 0h-2v-4h2v4z\"/>\n",
              "    </g>\n",
              "</svg>\n",
              "  </button>\n",
              "\n",
              "<style>\n",
              "  .colab-df-quickchart {\n",
              "      --bg-color: #E8F0FE;\n",
              "      --fill-color: #1967D2;\n",
              "      --hover-bg-color: #E2EBFA;\n",
              "      --hover-fill-color: #174EA6;\n",
              "      --disabled-fill-color: #AAA;\n",
              "      --disabled-bg-color: #DDD;\n",
              "  }\n",
              "\n",
              "  [theme=dark] .colab-df-quickchart {\n",
              "      --bg-color: #3B4455;\n",
              "      --fill-color: #D2E3FC;\n",
              "      --hover-bg-color: #434B5C;\n",
              "      --hover-fill-color: #FFFFFF;\n",
              "      --disabled-bg-color: #3B4455;\n",
              "      --disabled-fill-color: #666;\n",
              "  }\n",
              "\n",
              "  .colab-df-quickchart {\n",
              "    background-color: var(--bg-color);\n",
              "    border: none;\n",
              "    border-radius: 50%;\n",
              "    cursor: pointer;\n",
              "    display: none;\n",
              "    fill: var(--fill-color);\n",
              "    height: 32px;\n",
              "    padding: 0;\n",
              "    width: 32px;\n",
              "  }\n",
              "\n",
              "  .colab-df-quickchart:hover {\n",
              "    background-color: var(--hover-bg-color);\n",
              "    box-shadow: 0 1px 2px rgba(60, 64, 67, 0.3), 0 1px 3px 1px rgba(60, 64, 67, 0.15);\n",
              "    fill: var(--button-hover-fill-color);\n",
              "  }\n",
              "\n",
              "  .colab-df-quickchart-complete:disabled,\n",
              "  .colab-df-quickchart-complete:disabled:hover {\n",
              "    background-color: var(--disabled-bg-color);\n",
              "    fill: var(--disabled-fill-color);\n",
              "    box-shadow: none;\n",
              "  }\n",
              "\n",
              "  .colab-df-spinner {\n",
              "    border: 2px solid var(--fill-color);\n",
              "    border-color: transparent;\n",
              "    border-bottom-color: var(--fill-color);\n",
              "    animation:\n",
              "      spin 1s steps(1) infinite;\n",
              "  }\n",
              "\n",
              "  @keyframes spin {\n",
              "    0% {\n",
              "      border-color: transparent;\n",
              "      border-bottom-color: var(--fill-color);\n",
              "      border-left-color: var(--fill-color);\n",
              "    }\n",
              "    20% {\n",
              "      border-color: transparent;\n",
              "      border-left-color: var(--fill-color);\n",
              "      border-top-color: var(--fill-color);\n",
              "    }\n",
              "    30% {\n",
              "      border-color: transparent;\n",
              "      border-left-color: var(--fill-color);\n",
              "      border-top-color: var(--fill-color);\n",
              "      border-right-color: var(--fill-color);\n",
              "    }\n",
              "    40% {\n",
              "      border-color: transparent;\n",
              "      border-right-color: var(--fill-color);\n",
              "      border-top-color: var(--fill-color);\n",
              "    }\n",
              "    60% {\n",
              "      border-color: transparent;\n",
              "      border-right-color: var(--fill-color);\n",
              "    }\n",
              "    80% {\n",
              "      border-color: transparent;\n",
              "      border-right-color: var(--fill-color);\n",
              "      border-bottom-color: var(--fill-color);\n",
              "    }\n",
              "    90% {\n",
              "      border-color: transparent;\n",
              "      border-bottom-color: var(--fill-color);\n",
              "    }\n",
              "  }\n",
              "</style>\n",
              "\n",
              "  <script>\n",
              "    async function quickchart(key) {\n",
              "      const quickchartButtonEl =\n",
              "        document.querySelector('#' + key + ' button');\n",
              "      quickchartButtonEl.disabled = true;  // To prevent multiple clicks.\n",
              "      quickchartButtonEl.classList.add('colab-df-spinner');\n",
              "      try {\n",
              "        const charts = await google.colab.kernel.invokeFunction(\n",
              "            'suggestCharts', [key], {});\n",
              "      } catch (error) {\n",
              "        console.error('Error during call to suggestCharts:', error);\n",
              "      }\n",
              "      quickchartButtonEl.classList.remove('colab-df-spinner');\n",
              "      quickchartButtonEl.classList.add('colab-df-quickchart-complete');\n",
              "    }\n",
              "    (() => {\n",
              "      let quickchartButtonEl =\n",
              "        document.querySelector('#df-0a6efec5-7e92-44b4-849c-721c721fdac7 button');\n",
              "      quickchartButtonEl.style.display =\n",
              "        google.colab.kernel.accessAllowed ? 'block' : 'none';\n",
              "    })();\n",
              "  </script>\n",
              "</div>\n",
              "\n",
              "    </div>\n",
              "  </div>\n"
            ],
            "application/vnd.google.colaboratory.intrinsic+json": {
              "type": "dataframe",
              "variable_name": "data",
              "summary": "{\n  \"name\": \"data\",\n  \"rows\": 36527,\n  \"fields\": [\n    {\n      \"column\": \"Age\",\n      \"properties\": {\n        \"dtype\": \"number\",\n        \"std\": 13,\n        \"min\": 17,\n        \"max\": 90,\n        \"num_unique_values\": 74,\n        \"samples\": [\n          28,\n          73,\n          35\n        ],\n        \"semantic_type\": \"\",\n        \"description\": \"\"\n      }\n    },\n    {\n      \"column\": \"Workclass\",\n      \"properties\": {\n        \"dtype\": \"category\",\n        \"num_unique_values\": 8,\n        \"samples\": [\n          \" Self-emp-not-inc\",\n          \" Self-emp-inc\",\n          \" State-gov\"\n        ],\n        \"semantic_type\": \"\",\n        \"description\": \"\"\n      }\n    },\n    {\n      \"column\": \"fnlwgt\",\n      \"properties\": {\n        \"dtype\": \"number\",\n        \"std\": 105796,\n        \"min\": 12285,\n        \"max\": 1484705,\n        \"num_unique_values\": 23515,\n        \"samples\": [\n          469602,\n          178417,\n          72436\n        ],\n        \"semantic_type\": \"\",\n        \"description\": \"\"\n      }\n    },\n    {\n      \"column\": \"Education\",\n      \"properties\": {\n        \"dtype\": \"category\",\n        \"num_unique_values\": 16,\n        \"samples\": [\n          \" Bachelors\",\n          \" HS-grad\",\n          \" Some-college\"\n        ],\n        \"semantic_type\": \"\",\n        \"description\": \"\"\n      }\n    },\n    {\n      \"column\": \"Education_Num\",\n      \"properties\": {\n        \"dtype\": \"number\",\n        \"std\": 2,\n        \"min\": 1,\n        \"max\": 16,\n        \"num_unique_values\": 16,\n        \"samples\": [\n          13,\n          9,\n          10\n        ],\n        \"semantic_type\": \"\",\n        \"description\": \"\"\n      }\n    },\n    {\n      \"column\": \"Martial_Status\",\n      \"properties\": {\n        \"dtype\": \"category\",\n        \"num_unique_values\": 7,\n        \"samples\": [\n          \" Never-married\",\n          \" Married-civ-spouse\",\n          \" Married-AF-spouse\"\n        ],\n        \"semantic_type\": \"\",\n        \"description\": \"\"\n      }\n    },\n    {\n      \"column\": \"Occupation\",\n      \"properties\": {\n        \"dtype\": \"category\",\n        \"num_unique_values\": 14,\n        \"samples\": [\n          \" Machine-op-inspct\",\n          \" Protective-serv\",\n          \" Adm-clerical\"\n        ],\n        \"semantic_type\": \"\",\n        \"description\": \"\"\n      }\n    },\n    {\n      \"column\": \"Relationship\",\n      \"properties\": {\n        \"dtype\": \"category\",\n        \"num_unique_values\": 6,\n        \"samples\": [\n          \" Not-in-family\",\n          \" Husband\",\n          \" Other-relative\"\n        ],\n        \"semantic_type\": \"\",\n        \"description\": \"\"\n      }\n    },\n    {\n      \"column\": \"Race\",\n      \"properties\": {\n        \"dtype\": \"category\",\n        \"num_unique_values\": 5,\n        \"samples\": [\n          \" Black\",\n          \" Other\",\n          \" Asian-Pac-Islander\"\n        ],\n        \"semantic_type\": \"\",\n        \"description\": \"\"\n      }\n    },\n    {\n      \"column\": \"Gender\",\n      \"properties\": {\n        \"dtype\": \"category\",\n        \"num_unique_values\": 2,\n        \"samples\": [\n          \" Female\",\n          \" Male\"\n        ],\n        \"semantic_type\": \"\",\n        \"description\": \"\"\n      }\n    },\n    {\n      \"column\": \"Capital_Gain\",\n      \"properties\": {\n        \"dtype\": \"number\",\n        \"std\": 7364,\n        \"min\": 0,\n        \"max\": 99999,\n        \"num_unique_values\": 120,\n        \"samples\": [\n          25124,\n          2961\n        ],\n        \"semantic_type\": \"\",\n        \"description\": \"\"\n      }\n    },\n    {\n      \"column\": \"Capital_Loss\",\n      \"properties\": {\n        \"dtype\": \"number\",\n        \"std\": 403,\n        \"min\": 0,\n        \"max\": 4356,\n        \"num_unique_values\": 94,\n        \"samples\": [\n          419,\n          2051\n        ],\n        \"semantic_type\": \"\",\n        \"description\": \"\"\n      }\n    },\n    {\n      \"column\": \"Hours_per_week\",\n      \"properties\": {\n        \"dtype\": \"number\",\n        \"std\": 12,\n        \"min\": 1,\n        \"max\": 99,\n        \"num_unique_values\": 95,\n        \"samples\": [\n          68,\n          22\n        ],\n        \"semantic_type\": \"\",\n        \"description\": \"\"\n      }\n    },\n    {\n      \"column\": \"Country\",\n      \"properties\": {\n        \"dtype\": \"category\",\n        \"num_unique_values\": 41,\n        \"samples\": [\n          \" El-Salvador\",\n          \" Italy\"\n        ],\n        \"semantic_type\": \"\",\n        \"description\": \"\"\n      }\n    },\n    {\n      \"column\": \"Target\",\n      \"properties\": {\n        \"dtype\": \"category\",\n        \"num_unique_values\": 4,\n        \"samples\": [\n          \" >50K\",\n          \" >50K.\"\n        ],\n        \"semantic_type\": \"\",\n        \"description\": \"\"\n      }\n    }\n  ]\n}"
            }
          },
          "metadata": {},
          "execution_count": 9
        }
      ],
      "source": [
        "\n",
        "data=pd.read_csv('https://raw.githubusercontent.com/tkseneee/Dataset/dd7313e0c6487acd9ed7cd32b786782c7a1d3885/HR_data.csv')\n",
        "data.head(2)"
      ]
    },
    {
      "cell_type": "markdown",
      "metadata": {
        "id": "O21Ib50xeFyk"
      },
      "source": [
        "### 1. Check if there is any missing value.\n",
        "[Sklearn scaling functions will throw an error for the data with missing values]"
      ]
    },
    {
      "cell_type": "code",
      "execution_count": 10,
      "metadata": {
        "colab": {
          "base_uri": "https://localhost:8080/"
        },
        "id": "PNJaWQmSeFym",
        "outputId": "30b1501b-e4c1-4618-8cfb-a09e4e3db2d1"
      },
      "outputs": [
        {
          "output_type": "stream",
          "name": "stdout",
          "text": [
            "Age                  0\n",
            "Workclass         2079\n",
            "fnlwgt               0\n",
            "Education            0\n",
            "Education_Num        0\n",
            "Martial_Status       0\n",
            "Occupation        2087\n",
            "Relationship         0\n",
            "Race                 0\n",
            "Gender               0\n",
            "Capital_Gain         0\n",
            "Capital_Loss         0\n",
            "Hours_per_week       0\n",
            "Country            656\n",
            "Target               0\n",
            "dtype: int64\n"
          ]
        }
      ],
      "source": [
        "# prompt:\n",
        "\n",
        "import pandas as pd\n",
        "import numpy as np\n",
        "import seaborn as sb\n",
        "import matplotlib.pyplot as plt\n",
        "import warnings\n",
        "#\n",
        "# ### Import the Libraries and load the dataset\n",
        "warnings.filterwarnings(\"ignore\")\n",
        "#Hope all the participants are treated the missing values in the HR_data used in the last inclass.\n",
        "#The imputed version of the data have to be used for this exercise.\n",
        "hrdata=pd.read_csv('https://raw.githubusercontent.com/tkseneee/Dataset/dd7313e0c6487acd9ed7cd32b786782c7a1d3885/HR_data.csv')\n",
        "data.head(2)\n",
        "# ### 1. Check if there is any missing value.\n",
        "# [Sklearn scaling functions will throw an error for the data with missing values]\n",
        "print(hrdata.isnull().sum())\n"
      ]
    },
    {
      "cell_type": "markdown",
      "metadata": {
        "id": "78MYQiw9eFyn"
      },
      "source": [
        "### 2. Keep only the Numeric values in one variable\n",
        "[Scaling can be performed only on Numeric data]"
      ]
    },
    {
      "cell_type": "code",
      "execution_count": 17,
      "metadata": {
        "colab": {
          "base_uri": "https://localhost:8080/"
        },
        "id": "a3I_TPUtjaeB",
        "outputId": "8dd2881d-3c2c-48c5-ceaa-bbbbb7dad9ca"
      },
      "outputs": [
        {
          "output_type": "stream",
          "name": "stdout",
          "text": [
            "       Age  fnlwgt  Education_Num  Capital_Gain  Capital_Loss  Hours_per_week\n",
            "0       39   77516             13          2174             0              40\n",
            "1       50   83311             13             0             0              13\n",
            "2       38  215646              9             0             0              40\n",
            "3       53  234721              7             0             0              40\n",
            "4       28  338409             13             0             0              40\n",
            "...    ...     ...            ...           ...           ...             ...\n",
            "36522   39  215419             13             0             0              36\n",
            "36523   64  321403              9             0             0              40\n",
            "36524   38  374983             13             0             0              50\n",
            "36525   44   83891             13          5455             0              40\n",
            "36526   35  182148             13             0             0              60\n",
            "\n",
            "[36527 rows x 6 columns]\n"
          ]
        }
      ],
      "source": [
        "# prompt:\n",
        "\n",
        "numeric_data = hrdata.select_dtypes(include=np.number)\n",
        "print(numeric_data)"
      ]
    },
    {
      "cell_type": "markdown",
      "metadata": {
        "id": "PSba3sZweFyr"
      },
      "source": [
        "### 3. Compute the Range and comment about the need of scaling for this dataset"
      ]
    },
    {
      "cell_type": "code",
      "execution_count": 13,
      "metadata": {
        "colab": {
          "base_uri": "https://localhost:8080/"
        },
        "id": "UKrmuyPYjrHh",
        "outputId": "e257f01c-42cd-4285-df24-8e7eee51ae9d"
      },
      "outputs": [
        {
          "output_type": "stream",
          "name": "stdout",
          "text": [
            "Age                    73\n",
            "fnlwgt            1472420\n",
            "Education_Num          15\n",
            "Capital_Gain        99999\n",
            "Capital_Loss         4356\n",
            "Hours_per_week         98\n",
            "dtype: int64\n",
            "The range of values for each feature varies significantly, indicating that scaling may be necessary to ensure that features with larger ranges do not dominate the model training process.\n"
          ]
        }
      ],
      "source": [
        "# prompt:\n",
        "\n",
        "# Compute the Range\n",
        "range_data = numeric_data.max(axis=0) - numeric_data.min(axis=0)\n",
        "\n",
        "# Print the Range\n",
        "print(range_data)\n",
        "\n",
        "# Comment about the need of scaling for this dataset\n",
        "print(\"The range of values for each feature varies significantly, indicating that scaling may be necessary to ensure that features with larger ranges do not dominate the model training process.\")\n"
      ]
    },
    {
      "cell_type": "markdown",
      "metadata": {
        "id": "9QkDzpMOeFyu"
      },
      "source": [
        "### 4.  Perform standard scaling on the 'Area' column without using sklearn function"
      ]
    },
    {
      "cell_type": "markdown",
      "metadata": {
        "id": "HrQJFn6_kLIs"
      },
      "source": [
        "## x' = (x- MEAN ) / STD"
      ]
    },
    {
      "cell_type": "code",
      "execution_count": 19,
      "metadata": {
        "colab": {
          "base_uri": "https://localhost:8080/"
        },
        "id": "GDthL9SukMSe",
        "outputId": "1a294d09-d27c-4383-82a8-de1579fdb55e"
      },
      "outputs": [
        {
          "output_type": "stream",
          "name": "stdout",
          "text": [
            "0        0.029050\n",
            "1        0.834352\n",
            "2       -0.044160\n",
            "3        1.053980\n",
            "4       -0.776253\n",
            "           ...   \n",
            "36522    0.029050\n",
            "36523    1.859282\n",
            "36524   -0.044160\n",
            "36525    0.395096\n",
            "36526   -0.263788\n",
            "Name: Age, Length: 36527, dtype: float64\n"
          ]
        }
      ],
      "source": [
        "# prompt:\n",
        "\n",
        "# Calculate the mean and standard deviation of the 'Area' column\n",
        "mean = numeric_data['Age'].mean()\n",
        "std = numeric_data['Age'].std()\n",
        "\n",
        "# Standardize the 'Area' column\n",
        "scaled_area = (numeric_data['Age'] - mean) / std\n",
        "\n",
        "# Print the scaled 'Area' column\n",
        "print(scaled_area)\n"
      ]
    },
    {
      "cell_type": "markdown",
      "metadata": {
        "id": "bko7WI04eFyv"
      },
      "source": [
        "### 5. What is the min,max, mean and standard deviation of standard scaled data. Check these value for the scaled area column computed in the previous question"
      ]
    },
    {
      "cell_type": "code",
      "execution_count": 20,
      "metadata": {
        "colab": {
          "base_uri": "https://localhost:8080/"
        },
        "id": "LomAWe7elBo1",
        "outputId": "d48edc45-ec13-46ad-cd61-1f2ea78f1be7"
      },
      "outputs": [
        {
          "output_type": "stream",
          "name": "stdout",
          "text": [
            "Min: -1.5815552128571506\n",
            "Max: 3.762724485511142\n",
            "Mean: 4.843681145570809e-17\n",
            "Standard deviation: 1.0\n"
          ]
        }
      ],
      "source": [
        "# prompt:\n",
        "\n",
        "# Calculate the min, max, mean and standard deviation of the scaled 'Area' column\n",
        "min_scaled_area = scaled_area.min()\n",
        "max_scaled_area = scaled_area.max()\n",
        "mean_scaled_area = scaled_area.mean()\n",
        "std_scaled_area = scaled_area.std()\n",
        "\n",
        "# Print the results\n",
        "print(f\"Min: {min_scaled_area}\")\n",
        "print(f\"Max: {max_scaled_area}\")\n",
        "print(f\"Mean: {mean_scaled_area}\")\n",
        "print(f\"Standard deviation: {std_scaled_area}\")\n"
      ]
    },
    {
      "cell_type": "markdown",
      "metadata": {
        "id": "4I5Zed6PeFyx"
      },
      "source": [
        "### 6. Apply Standard Scaler to all the column of the data using sklearn function"
      ]
    },
    {
      "cell_type": "code",
      "execution_count": 21,
      "metadata": {
        "id": "_Co7vSFkllst",
        "colab": {
          "base_uri": "https://localhost:8080/"
        },
        "outputId": "1fd8d637-3f4f-4744-d8b6-8bd46064bc2b"
      },
      "outputs": [
        {
          "output_type": "stream",
          "name": "stdout",
          "text": [
            "        Age    fnlwgt  Education_Num  Capital_Gain  Capital_Loss  \\\n",
            "0  0.029050 -1.062152       1.134136      0.149031     -0.216957   \n",
            "1  0.834363 -1.007377       1.134136     -0.146177     -0.216957   \n",
            "2 -0.044160  0.243483      -0.420668     -0.146177     -0.216957   \n",
            "3  1.053994  0.423784      -1.198070     -0.146177     -0.216957   \n",
            "4 -0.776263  1.403866       1.134136     -0.146177     -0.216957   \n",
            "\n",
            "   Hours_per_week  \n",
            "0       -0.034641  \n",
            "1       -2.218354  \n",
            "2       -0.034641  \n",
            "3       -0.034641  \n",
            "4       -0.034641  \n"
          ]
        }
      ],
      "source": [
        "# prompt:\n",
        "\n",
        "from sklearn.preprocessing import StandardScaler\n",
        "\n",
        "# Create a StandardScaler object\n",
        "scaler = StandardScaler()\n",
        "\n",
        "# Fit the scaler to the numeric data\n",
        "scaler.fit(numeric_data)\n",
        "\n",
        "# Transform the numeric data\n",
        "scaled_data = scaler.transform(numeric_data)\n",
        "\n",
        "# Convert the scaled data back to a DataFrame\n",
        "scaled_data_df = pd.DataFrame(scaled_data, columns=numeric_data.columns)\n",
        "\n",
        "# Print the scaled data\n",
        "print(scaled_data_df.head())\n"
      ]
    },
    {
      "cell_type": "code",
      "execution_count": 22,
      "metadata": {
        "colab": {
          "base_uri": "https://localhost:8080/"
        },
        "id": "5zoefFlRmJoX",
        "outputId": "76d86719-09ba-4626-ecd0-1f6756d386fa"
      },
      "outputs": [
        {
          "output_type": "stream",
          "name": "stdout",
          "text": [
            "Cloning into 'Dataset'...\n",
            "remote: Enumerating objects: 170, done.\u001b[K\n",
            "remote: Counting objects: 100% (86/86), done.\u001b[K\n",
            "remote: Compressing objects: 100% (61/61), done.\u001b[K\n",
            "remote: Total 170 (delta 25), reused 86 (delta 25), pack-reused 84\u001b[K\n",
            "Receiving objects: 100% (170/170), 26.68 MiB | 21.92 MiB/s, done.\n",
            "Resolving deltas: 100% (48/48), done.\n",
            "/content/Dataset\n",
            " 2009_data.xls\t\t\t   day.csv\t\t       Migraine.csv\n",
            " 2015.csv\t\t\t   db_data.csv\t\t       movie_metadata.csv\n",
            " 2016.csv\t\t\t   delivery.xlsx\t       movies_lens.csv\n",
            " 2017.csv\t\t\t   diabetes.csv\t\t       my_skill.xlsx\n",
            " 30_09_2020_Regularization.ipynb   DT.xlsx\t\t      'My timeline.xlsx'\n",
            " Admission_Predict.csv\t\t   employee_compensation.csv  'online_shoppers_intention (2).csv'\n",
            " adult_income.csv\t\t   energy_data.csv\t       plant.csv\n",
            " Advertising.csv\t\t   GDP_Country1.csv\t       plant_csv.csv\n",
            " air_distance.csv\t\t   GDP_Country.csv\t       Player.xlsx\n",
            " balance_data.csv\t\t   Heart_disease.csv\t      'Rain Prediction Train.csv'\n",
            " Ball_by_Ball.xlsx\t\t   Housing.csv\t\t       ratings_lens.csv\n",
            " book.csv\t\t\t   HR_attrition.csv\t       README.md\n",
            " breastcancer1.xlsx\t\t   HR_data1.csv\t\t       Refrigerators.xlsx\n",
            " breast_cancer.csv\t\t   HR_data.csv\t\t       Restaurant_Reviews.tsv\n",
            "'Campaign data.xlsx'\t\t   HR_stat_data.csv\t       Sign_Language_Digit.rar\n",
            " cancer_data.csv\t\t   Iris.csv\t\t       stat1.ipynb\n",
            " CC_DATA.csv\t\t\t   k_circle_sales.csv\t       stat.xlsx\n",
            " chipotle_data.csv\t\t   Life_Expectancy.csv\t       Super_store.xlsx\n",
            " Churn_Modelling.csv\t\t   Loan_data.csv\t       Team.xlsx\n",
            " class4.ipynb\t\t\t   Loan_data_ver1.csv\t       test_ver1.csv\n",
            " Concrete_Data.csv\t\t   Loan_data_ver2.csv\t       US_Heart_Patients.csv\n",
            " credit-default.csv\t\t   LungCapdata.csv\t       World_Bank_Data.zip\n",
            " crick.csv\t\t\t   market_data.csv\n",
            " customers_data.csv\t\t   Match.xlsx\n"
          ]
        }
      ],
      "source": [
        "# prompt:\n",
        "\n",
        "!git clone https://github.com/tkseneee/Dataset.git\n",
        "%cd Dataset\n",
        "!ls\n"
      ]
    },
    {
      "cell_type": "markdown",
      "metadata": {
        "id": "s8iPEbIseFyx"
      },
      "source": [
        "### 7. Check whether all the scaled data mean and standard deviation is 0 and 1 respectively"
      ]
    },
    {
      "cell_type": "code",
      "execution_count": 23,
      "metadata": {
        "colab": {
          "base_uri": "https://localhost:8080/"
        },
        "id": "vQa1XiCTmbkf",
        "outputId": "5bb2e638-e246-4b73-e5e1-3ff926acb396"
      },
      "outputs": [
        {
          "output_type": "stream",
          "name": "stdout",
          "text": [
            "Age               4.551893e-17\n",
            "fnlwgt            1.279977e-16\n",
            "Education_Num    -2.373209e-17\n",
            "Capital_Gain     -6.370705e-17\n",
            "Capital_Loss     -6.234537e-17\n",
            "Hours_per_week    8.996797e-17\n",
            "dtype: float64\n",
            "Age               1.000014\n",
            "fnlwgt            1.000014\n",
            "Education_Num     1.000014\n",
            "Capital_Gain      1.000014\n",
            "Capital_Loss      1.000014\n",
            "Hours_per_week    1.000014\n",
            "dtype: float64\n"
          ]
        }
      ],
      "source": [
        "# prompt:\n",
        "\n",
        "print(scaled_data_df.mean(axis=0))\n",
        "print(scaled_data_df.std(axis=0))\n"
      ]
    },
    {
      "cell_type": "code",
      "execution_count": 24,
      "metadata": {
        "colab": {
          "base_uri": "https://localhost:8080/",
          "height": 313
        },
        "id": "T5fIyUNnmQLX",
        "outputId": "c5ea6981-e000-4cc4-cc3c-4d53798421d5"
      },
      "outputs": [
        {
          "output_type": "execute_result",
          "data": {
            "text/plain": [
              "   Age          Workclass  fnlwgt   Education  Education_Num  \\\n",
              "0   39          State-gov   77516   Bachelors             13   \n",
              "1   50   Self-emp-not-inc   83311   Bachelors             13   \n",
              "2   38            Private  215646     HS-grad              9   \n",
              "3   53            Private  234721        11th              7   \n",
              "4   28            Private  338409   Bachelors             13   \n",
              "\n",
              "        Martial_Status          Occupation    Relationship    Race   Gender  \\\n",
              "0        Never-married        Adm-clerical   Not-in-family   White     Male   \n",
              "1   Married-civ-spouse     Exec-managerial         Husband   White     Male   \n",
              "2             Divorced   Handlers-cleaners   Not-in-family   White     Male   \n",
              "3   Married-civ-spouse   Handlers-cleaners         Husband   Black     Male   \n",
              "4   Married-civ-spouse      Prof-specialty            Wife   Black   Female   \n",
              "\n",
              "   Capital_Gain  Capital_Loss  Hours_per_week         Country  Target  \\\n",
              "0          2174             0              40   United-States   <=50K   \n",
              "1             0             0              13   United-States   <=50K   \n",
              "2             0             0              40   United-States   <=50K   \n",
              "3             0             0              40   United-States   <=50K   \n",
              "4             0             0              40            Cuba   <=50K   \n",
              "\n",
              "   Scaled_Area  \n",
              "0     0.029050  \n",
              "1     0.834352  \n",
              "2    -0.044160  \n",
              "3     1.053980  \n",
              "4    -0.776253  "
            ],
            "text/html": [
              "\n",
              "  <div id=\"df-88ca7350-087f-4315-848e-8807ca873a9a\" class=\"colab-df-container\">\n",
              "    <div>\n",
              "<style scoped>\n",
              "    .dataframe tbody tr th:only-of-type {\n",
              "        vertical-align: middle;\n",
              "    }\n",
              "\n",
              "    .dataframe tbody tr th {\n",
              "        vertical-align: top;\n",
              "    }\n",
              "\n",
              "    .dataframe thead th {\n",
              "        text-align: right;\n",
              "    }\n",
              "</style>\n",
              "<table border=\"1\" class=\"dataframe\">\n",
              "  <thead>\n",
              "    <tr style=\"text-align: right;\">\n",
              "      <th></th>\n",
              "      <th>Age</th>\n",
              "      <th>Workclass</th>\n",
              "      <th>fnlwgt</th>\n",
              "      <th>Education</th>\n",
              "      <th>Education_Num</th>\n",
              "      <th>Martial_Status</th>\n",
              "      <th>Occupation</th>\n",
              "      <th>Relationship</th>\n",
              "      <th>Race</th>\n",
              "      <th>Gender</th>\n",
              "      <th>Capital_Gain</th>\n",
              "      <th>Capital_Loss</th>\n",
              "      <th>Hours_per_week</th>\n",
              "      <th>Country</th>\n",
              "      <th>Target</th>\n",
              "      <th>Scaled_Area</th>\n",
              "    </tr>\n",
              "  </thead>\n",
              "  <tbody>\n",
              "    <tr>\n",
              "      <th>0</th>\n",
              "      <td>39</td>\n",
              "      <td>State-gov</td>\n",
              "      <td>77516</td>\n",
              "      <td>Bachelors</td>\n",
              "      <td>13</td>\n",
              "      <td>Never-married</td>\n",
              "      <td>Adm-clerical</td>\n",
              "      <td>Not-in-family</td>\n",
              "      <td>White</td>\n",
              "      <td>Male</td>\n",
              "      <td>2174</td>\n",
              "      <td>0</td>\n",
              "      <td>40</td>\n",
              "      <td>United-States</td>\n",
              "      <td>&lt;=50K</td>\n",
              "      <td>0.029050</td>\n",
              "    </tr>\n",
              "    <tr>\n",
              "      <th>1</th>\n",
              "      <td>50</td>\n",
              "      <td>Self-emp-not-inc</td>\n",
              "      <td>83311</td>\n",
              "      <td>Bachelors</td>\n",
              "      <td>13</td>\n",
              "      <td>Married-civ-spouse</td>\n",
              "      <td>Exec-managerial</td>\n",
              "      <td>Husband</td>\n",
              "      <td>White</td>\n",
              "      <td>Male</td>\n",
              "      <td>0</td>\n",
              "      <td>0</td>\n",
              "      <td>13</td>\n",
              "      <td>United-States</td>\n",
              "      <td>&lt;=50K</td>\n",
              "      <td>0.834352</td>\n",
              "    </tr>\n",
              "    <tr>\n",
              "      <th>2</th>\n",
              "      <td>38</td>\n",
              "      <td>Private</td>\n",
              "      <td>215646</td>\n",
              "      <td>HS-grad</td>\n",
              "      <td>9</td>\n",
              "      <td>Divorced</td>\n",
              "      <td>Handlers-cleaners</td>\n",
              "      <td>Not-in-family</td>\n",
              "      <td>White</td>\n",
              "      <td>Male</td>\n",
              "      <td>0</td>\n",
              "      <td>0</td>\n",
              "      <td>40</td>\n",
              "      <td>United-States</td>\n",
              "      <td>&lt;=50K</td>\n",
              "      <td>-0.044160</td>\n",
              "    </tr>\n",
              "    <tr>\n",
              "      <th>3</th>\n",
              "      <td>53</td>\n",
              "      <td>Private</td>\n",
              "      <td>234721</td>\n",
              "      <td>11th</td>\n",
              "      <td>7</td>\n",
              "      <td>Married-civ-spouse</td>\n",
              "      <td>Handlers-cleaners</td>\n",
              "      <td>Husband</td>\n",
              "      <td>Black</td>\n",
              "      <td>Male</td>\n",
              "      <td>0</td>\n",
              "      <td>0</td>\n",
              "      <td>40</td>\n",
              "      <td>United-States</td>\n",
              "      <td>&lt;=50K</td>\n",
              "      <td>1.053980</td>\n",
              "    </tr>\n",
              "    <tr>\n",
              "      <th>4</th>\n",
              "      <td>28</td>\n",
              "      <td>Private</td>\n",
              "      <td>338409</td>\n",
              "      <td>Bachelors</td>\n",
              "      <td>13</td>\n",
              "      <td>Married-civ-spouse</td>\n",
              "      <td>Prof-specialty</td>\n",
              "      <td>Wife</td>\n",
              "      <td>Black</td>\n",
              "      <td>Female</td>\n",
              "      <td>0</td>\n",
              "      <td>0</td>\n",
              "      <td>40</td>\n",
              "      <td>Cuba</td>\n",
              "      <td>&lt;=50K</td>\n",
              "      <td>-0.776253</td>\n",
              "    </tr>\n",
              "  </tbody>\n",
              "</table>\n",
              "</div>\n",
              "    <div class=\"colab-df-buttons\">\n",
              "\n",
              "  <div class=\"colab-df-container\">\n",
              "    <button class=\"colab-df-convert\" onclick=\"convertToInteractive('df-88ca7350-087f-4315-848e-8807ca873a9a')\"\n",
              "            title=\"Convert this dataframe to an interactive table.\"\n",
              "            style=\"display:none;\">\n",
              "\n",
              "  <svg xmlns=\"http://www.w3.org/2000/svg\" height=\"24px\" viewBox=\"0 -960 960 960\">\n",
              "    <path d=\"M120-120v-720h720v720H120Zm60-500h600v-160H180v160Zm220 220h160v-160H400v160Zm0 220h160v-160H400v160ZM180-400h160v-160H180v160Zm440 0h160v-160H620v160ZM180-180h160v-160H180v160Zm440 0h160v-160H620v160Z\"/>\n",
              "  </svg>\n",
              "    </button>\n",
              "\n",
              "  <style>\n",
              "    .colab-df-container {\n",
              "      display:flex;\n",
              "      gap: 12px;\n",
              "    }\n",
              "\n",
              "    .colab-df-convert {\n",
              "      background-color: #E8F0FE;\n",
              "      border: none;\n",
              "      border-radius: 50%;\n",
              "      cursor: pointer;\n",
              "      display: none;\n",
              "      fill: #1967D2;\n",
              "      height: 32px;\n",
              "      padding: 0 0 0 0;\n",
              "      width: 32px;\n",
              "    }\n",
              "\n",
              "    .colab-df-convert:hover {\n",
              "      background-color: #E2EBFA;\n",
              "      box-shadow: 0px 1px 2px rgba(60, 64, 67, 0.3), 0px 1px 3px 1px rgba(60, 64, 67, 0.15);\n",
              "      fill: #174EA6;\n",
              "    }\n",
              "\n",
              "    .colab-df-buttons div {\n",
              "      margin-bottom: 4px;\n",
              "    }\n",
              "\n",
              "    [theme=dark] .colab-df-convert {\n",
              "      background-color: #3B4455;\n",
              "      fill: #D2E3FC;\n",
              "    }\n",
              "\n",
              "    [theme=dark] .colab-df-convert:hover {\n",
              "      background-color: #434B5C;\n",
              "      box-shadow: 0px 1px 3px 1px rgba(0, 0, 0, 0.15);\n",
              "      filter: drop-shadow(0px 1px 2px rgba(0, 0, 0, 0.3));\n",
              "      fill: #FFFFFF;\n",
              "    }\n",
              "  </style>\n",
              "\n",
              "    <script>\n",
              "      const buttonEl =\n",
              "        document.querySelector('#df-88ca7350-087f-4315-848e-8807ca873a9a button.colab-df-convert');\n",
              "      buttonEl.style.display =\n",
              "        google.colab.kernel.accessAllowed ? 'block' : 'none';\n",
              "\n",
              "      async function convertToInteractive(key) {\n",
              "        const element = document.querySelector('#df-88ca7350-087f-4315-848e-8807ca873a9a');\n",
              "        const dataTable =\n",
              "          await google.colab.kernel.invokeFunction('convertToInteractive',\n",
              "                                                    [key], {});\n",
              "        if (!dataTable) return;\n",
              "\n",
              "        const docLinkHtml = 'Like what you see? Visit the ' +\n",
              "          '<a target=\"_blank\" href=https://colab.research.google.com/notebooks/data_table.ipynb>data table notebook</a>'\n",
              "          + ' to learn more about interactive tables.';\n",
              "        element.innerHTML = '';\n",
              "        dataTable['output_type'] = 'display_data';\n",
              "        await google.colab.output.renderOutput(dataTable, element);\n",
              "        const docLink = document.createElement('div');\n",
              "        docLink.innerHTML = docLinkHtml;\n",
              "        element.appendChild(docLink);\n",
              "      }\n",
              "    </script>\n",
              "  </div>\n",
              "\n",
              "\n",
              "<div id=\"df-126cd466-88d6-4f15-8505-b06949560078\">\n",
              "  <button class=\"colab-df-quickchart\" onclick=\"quickchart('df-126cd466-88d6-4f15-8505-b06949560078')\"\n",
              "            title=\"Suggest charts\"\n",
              "            style=\"display:none;\">\n",
              "\n",
              "<svg xmlns=\"http://www.w3.org/2000/svg\" height=\"24px\"viewBox=\"0 0 24 24\"\n",
              "     width=\"24px\">\n",
              "    <g>\n",
              "        <path d=\"M19 3H5c-1.1 0-2 .9-2 2v14c0 1.1.9 2 2 2h14c1.1 0 2-.9 2-2V5c0-1.1-.9-2-2-2zM9 17H7v-7h2v7zm4 0h-2V7h2v10zm4 0h-2v-4h2v4z\"/>\n",
              "    </g>\n",
              "</svg>\n",
              "  </button>\n",
              "\n",
              "<style>\n",
              "  .colab-df-quickchart {\n",
              "      --bg-color: #E8F0FE;\n",
              "      --fill-color: #1967D2;\n",
              "      --hover-bg-color: #E2EBFA;\n",
              "      --hover-fill-color: #174EA6;\n",
              "      --disabled-fill-color: #AAA;\n",
              "      --disabled-bg-color: #DDD;\n",
              "  }\n",
              "\n",
              "  [theme=dark] .colab-df-quickchart {\n",
              "      --bg-color: #3B4455;\n",
              "      --fill-color: #D2E3FC;\n",
              "      --hover-bg-color: #434B5C;\n",
              "      --hover-fill-color: #FFFFFF;\n",
              "      --disabled-bg-color: #3B4455;\n",
              "      --disabled-fill-color: #666;\n",
              "  }\n",
              "\n",
              "  .colab-df-quickchart {\n",
              "    background-color: var(--bg-color);\n",
              "    border: none;\n",
              "    border-radius: 50%;\n",
              "    cursor: pointer;\n",
              "    display: none;\n",
              "    fill: var(--fill-color);\n",
              "    height: 32px;\n",
              "    padding: 0;\n",
              "    width: 32px;\n",
              "  }\n",
              "\n",
              "  .colab-df-quickchart:hover {\n",
              "    background-color: var(--hover-bg-color);\n",
              "    box-shadow: 0 1px 2px rgba(60, 64, 67, 0.3), 0 1px 3px 1px rgba(60, 64, 67, 0.15);\n",
              "    fill: var(--button-hover-fill-color);\n",
              "  }\n",
              "\n",
              "  .colab-df-quickchart-complete:disabled,\n",
              "  .colab-df-quickchart-complete:disabled:hover {\n",
              "    background-color: var(--disabled-bg-color);\n",
              "    fill: var(--disabled-fill-color);\n",
              "    box-shadow: none;\n",
              "  }\n",
              "\n",
              "  .colab-df-spinner {\n",
              "    border: 2px solid var(--fill-color);\n",
              "    border-color: transparent;\n",
              "    border-bottom-color: var(--fill-color);\n",
              "    animation:\n",
              "      spin 1s steps(1) infinite;\n",
              "  }\n",
              "\n",
              "  @keyframes spin {\n",
              "    0% {\n",
              "      border-color: transparent;\n",
              "      border-bottom-color: var(--fill-color);\n",
              "      border-left-color: var(--fill-color);\n",
              "    }\n",
              "    20% {\n",
              "      border-color: transparent;\n",
              "      border-left-color: var(--fill-color);\n",
              "      border-top-color: var(--fill-color);\n",
              "    }\n",
              "    30% {\n",
              "      border-color: transparent;\n",
              "      border-left-color: var(--fill-color);\n",
              "      border-top-color: var(--fill-color);\n",
              "      border-right-color: var(--fill-color);\n",
              "    }\n",
              "    40% {\n",
              "      border-color: transparent;\n",
              "      border-right-color: var(--fill-color);\n",
              "      border-top-color: var(--fill-color);\n",
              "    }\n",
              "    60% {\n",
              "      border-color: transparent;\n",
              "      border-right-color: var(--fill-color);\n",
              "    }\n",
              "    80% {\n",
              "      border-color: transparent;\n",
              "      border-right-color: var(--fill-color);\n",
              "      border-bottom-color: var(--fill-color);\n",
              "    }\n",
              "    90% {\n",
              "      border-color: transparent;\n",
              "      border-bottom-color: var(--fill-color);\n",
              "    }\n",
              "  }\n",
              "</style>\n",
              "\n",
              "  <script>\n",
              "    async function quickchart(key) {\n",
              "      const quickchartButtonEl =\n",
              "        document.querySelector('#' + key + ' button');\n",
              "      quickchartButtonEl.disabled = true;  // To prevent multiple clicks.\n",
              "      quickchartButtonEl.classList.add('colab-df-spinner');\n",
              "      try {\n",
              "        const charts = await google.colab.kernel.invokeFunction(\n",
              "            'suggestCharts', [key], {});\n",
              "      } catch (error) {\n",
              "        console.error('Error during call to suggestCharts:', error);\n",
              "      }\n",
              "      quickchartButtonEl.classList.remove('colab-df-spinner');\n",
              "      quickchartButtonEl.classList.add('colab-df-quickchart-complete');\n",
              "    }\n",
              "    (() => {\n",
              "      let quickchartButtonEl =\n",
              "        document.querySelector('#df-126cd466-88d6-4f15-8505-b06949560078 button');\n",
              "      quickchartButtonEl.style.display =\n",
              "        google.colab.kernel.accessAllowed ? 'block' : 'none';\n",
              "    })();\n",
              "  </script>\n",
              "</div>\n",
              "\n",
              "    </div>\n",
              "  </div>\n"
            ],
            "application/vnd.google.colaboratory.intrinsic+json": {
              "type": "dataframe",
              "variable_name": "hrdata",
              "summary": "{\n  \"name\": \"hrdata\",\n  \"rows\": 36527,\n  \"fields\": [\n    {\n      \"column\": \"Age\",\n      \"properties\": {\n        \"dtype\": \"number\",\n        \"std\": 13,\n        \"min\": 17,\n        \"max\": 90,\n        \"num_unique_values\": 74,\n        \"samples\": [\n          28,\n          73,\n          35\n        ],\n        \"semantic_type\": \"\",\n        \"description\": \"\"\n      }\n    },\n    {\n      \"column\": \"Workclass\",\n      \"properties\": {\n        \"dtype\": \"category\",\n        \"num_unique_values\": 8,\n        \"samples\": [\n          \" Self-emp-not-inc\",\n          \" Self-emp-inc\",\n          \" State-gov\"\n        ],\n        \"semantic_type\": \"\",\n        \"description\": \"\"\n      }\n    },\n    {\n      \"column\": \"fnlwgt\",\n      \"properties\": {\n        \"dtype\": \"number\",\n        \"std\": 105796,\n        \"min\": 12285,\n        \"max\": 1484705,\n        \"num_unique_values\": 23515,\n        \"samples\": [\n          469602,\n          178417,\n          72436\n        ],\n        \"semantic_type\": \"\",\n        \"description\": \"\"\n      }\n    },\n    {\n      \"column\": \"Education\",\n      \"properties\": {\n        \"dtype\": \"category\",\n        \"num_unique_values\": 16,\n        \"samples\": [\n          \" Bachelors\",\n          \" HS-grad\",\n          \" Some-college\"\n        ],\n        \"semantic_type\": \"\",\n        \"description\": \"\"\n      }\n    },\n    {\n      \"column\": \"Education_Num\",\n      \"properties\": {\n        \"dtype\": \"number\",\n        \"std\": 2,\n        \"min\": 1,\n        \"max\": 16,\n        \"num_unique_values\": 16,\n        \"samples\": [\n          13,\n          9,\n          10\n        ],\n        \"semantic_type\": \"\",\n        \"description\": \"\"\n      }\n    },\n    {\n      \"column\": \"Martial_Status\",\n      \"properties\": {\n        \"dtype\": \"category\",\n        \"num_unique_values\": 7,\n        \"samples\": [\n          \" Never-married\",\n          \" Married-civ-spouse\",\n          \" Married-AF-spouse\"\n        ],\n        \"semantic_type\": \"\",\n        \"description\": \"\"\n      }\n    },\n    {\n      \"column\": \"Occupation\",\n      \"properties\": {\n        \"dtype\": \"category\",\n        \"num_unique_values\": 14,\n        \"samples\": [\n          \" Machine-op-inspct\",\n          \" Protective-serv\",\n          \" Adm-clerical\"\n        ],\n        \"semantic_type\": \"\",\n        \"description\": \"\"\n      }\n    },\n    {\n      \"column\": \"Relationship\",\n      \"properties\": {\n        \"dtype\": \"category\",\n        \"num_unique_values\": 6,\n        \"samples\": [\n          \" Not-in-family\",\n          \" Husband\",\n          \" Other-relative\"\n        ],\n        \"semantic_type\": \"\",\n        \"description\": \"\"\n      }\n    },\n    {\n      \"column\": \"Race\",\n      \"properties\": {\n        \"dtype\": \"category\",\n        \"num_unique_values\": 5,\n        \"samples\": [\n          \" Black\",\n          \" Other\",\n          \" Asian-Pac-Islander\"\n        ],\n        \"semantic_type\": \"\",\n        \"description\": \"\"\n      }\n    },\n    {\n      \"column\": \"Gender\",\n      \"properties\": {\n        \"dtype\": \"category\",\n        \"num_unique_values\": 2,\n        \"samples\": [\n          \" Female\",\n          \" Male\"\n        ],\n        \"semantic_type\": \"\",\n        \"description\": \"\"\n      }\n    },\n    {\n      \"column\": \"Capital_Gain\",\n      \"properties\": {\n        \"dtype\": \"number\",\n        \"std\": 7364,\n        \"min\": 0,\n        \"max\": 99999,\n        \"num_unique_values\": 120,\n        \"samples\": [\n          25124,\n          2961\n        ],\n        \"semantic_type\": \"\",\n        \"description\": \"\"\n      }\n    },\n    {\n      \"column\": \"Capital_Loss\",\n      \"properties\": {\n        \"dtype\": \"number\",\n        \"std\": 403,\n        \"min\": 0,\n        \"max\": 4356,\n        \"num_unique_values\": 94,\n        \"samples\": [\n          419,\n          2051\n        ],\n        \"semantic_type\": \"\",\n        \"description\": \"\"\n      }\n    },\n    {\n      \"column\": \"Hours_per_week\",\n      \"properties\": {\n        \"dtype\": \"number\",\n        \"std\": 12,\n        \"min\": 1,\n        \"max\": 99,\n        \"num_unique_values\": 95,\n        \"samples\": [\n          68,\n          22\n        ],\n        \"semantic_type\": \"\",\n        \"description\": \"\"\n      }\n    },\n    {\n      \"column\": \"Country\",\n      \"properties\": {\n        \"dtype\": \"category\",\n        \"num_unique_values\": 41,\n        \"samples\": [\n          \" El-Salvador\",\n          \" Italy\"\n        ],\n        \"semantic_type\": \"\",\n        \"description\": \"\"\n      }\n    },\n    {\n      \"column\": \"Target\",\n      \"properties\": {\n        \"dtype\": \"category\",\n        \"num_unique_values\": 4,\n        \"samples\": [\n          \" >50K\",\n          \" >50K.\"\n        ],\n        \"semantic_type\": \"\",\n        \"description\": \"\"\n      }\n    },\n    {\n      \"column\": \"Scaled_Area\",\n      \"properties\": {\n        \"dtype\": \"number\",\n        \"std\": 1.0,\n        \"min\": -1.5815552128571506,\n        \"max\": 3.762724485511142,\n        \"num_unique_values\": 74,\n        \"samples\": [\n          -0.7762527925550792,\n          2.5181661995897584\n        ],\n        \"semantic_type\": \"\",\n        \"description\": \"\"\n      }\n    }\n  ]\n}"
            }
          },
          "metadata": {},
          "execution_count": 24
        }
      ],
      "source": [
        "# prompt:\n",
        "\n",
        "# 8. Create a new column in the data frame with name 'Scaled_Area' and store the scaled area values in this column\n",
        "\n",
        "hrdata['Scaled_Area'] = scaled_area\n",
        "\n",
        "# Print the head of the data frame\n",
        "hrdata.head()\n"
      ]
    },
    {
      "cell_type": "markdown",
      "metadata": {
        "id": "300pjyIWeFyz"
      },
      "source": [
        "### 8.Inverse the scaled data to the original form"
      ]
    },
    {
      "cell_type": "code",
      "execution_count": 25,
      "metadata": {
        "colab": {
          "base_uri": "https://localhost:8080/"
        },
        "id": "pBCDEy4mmhvE",
        "outputId": "1819a61f-d231-40bd-a416-7edff0586e50"
      },
      "outputs": [
        {
          "output_type": "stream",
          "name": "stdout",
          "text": [
            "    Age    fnlwgt  Education_Num  Capital_Gain  Capital_Loss  Hours_per_week\n",
            "0  39.0   77516.0           13.0        2174.0           0.0            40.0\n",
            "1  50.0   83311.0           13.0           0.0           0.0            13.0\n",
            "2  38.0  215646.0            9.0           0.0           0.0            40.0\n",
            "3  53.0  234721.0            7.0           0.0           0.0            40.0\n",
            "4  28.0  338409.0           13.0           0.0           0.0            40.0\n"
          ]
        }
      ],
      "source": [
        "# prompt:\n",
        "\n",
        "# Import the necessary libraries\n",
        "import pandas as pd\n",
        "from sklearn.preprocessing import StandardScaler\n",
        "\n",
        "# Load the dataset\n",
        "data = pd.read_csv('https://raw.githubusercontent.com/tkseneee/Dataset/dd7313e0c6487acd9ed7cd32b786782c7a1d3885/HR_data.csv')\n",
        "\n",
        "# Select only the numeric columns\n",
        "numeric_data = data.select_dtypes(include=np.number)\n",
        "\n",
        "# Standardize the data\n",
        "scaler = StandardScaler()\n",
        "scaler.fit(numeric_data)\n",
        "scaled_data = scaler.transform(numeric_data)\n",
        "\n",
        "# Convert the scaled data back to a DataFrame\n",
        "scaled_data_df = pd.DataFrame(scaled_data, columns=numeric_data.columns)\n",
        "\n",
        "# Inverse transform the scaled data\n",
        "unscaled_data = scaler.inverse_transform(scaled_data)\n",
        "\n",
        "# Convert the unscaled data back to a DataFrame\n",
        "unscaled_data_df = pd.DataFrame(unscaled_data, columns=numeric_data.columns)\n",
        "\n",
        "# Print the head of the unscaled data\n",
        "print(unscaled_data_df.head())\n"
      ]
    },
    {
      "cell_type": "markdown",
      "metadata": {
        "id": "wErXJRU_eFy0"
      },
      "source": [
        "### 9.Apply Min-max scaling to the original numeric data and print its max and minimum values for all the columns"
      ]
    },
    {
      "cell_type": "code",
      "execution_count": 26,
      "metadata": {
        "colab": {
          "base_uri": "https://localhost:8080/"
        },
        "id": "uXlCv5MsnSdR",
        "outputId": "07e5395a-3c10-436c-d3bb-0e3952e76a69"
      },
      "outputs": [
        {
          "output_type": "stream",
          "name": "stdout",
          "text": [
            "Age               1.0\n",
            "fnlwgt            1.0\n",
            "Education_Num     1.0\n",
            "Capital_Gain      1.0\n",
            "Capital_Loss      1.0\n",
            "Hours_per_week    1.0\n",
            "dtype: float64\n",
            "Age               0.0\n",
            "fnlwgt            0.0\n",
            "Education_Num     0.0\n",
            "Capital_Gain      0.0\n",
            "Capital_Loss      0.0\n",
            "Hours_per_week    0.0\n",
            "dtype: float64\n"
          ]
        }
      ],
      "source": [
        "# prompt:\n",
        "\n",
        "from sklearn.preprocessing import MinMaxScaler\n",
        "\n",
        "# Create a MinMaxScaler object\n",
        "scaler = MinMaxScaler()\n",
        "\n",
        "# Fit the scaler to the numeric data\n",
        "scaler.fit(numeric_data)\n",
        "\n",
        "# Transform the numeric data\n",
        "scaled_data = scaler.transform(numeric_data)\n",
        "\n",
        "# Convert the scaled data back to a DataFrame\n",
        "scaled_data_df = pd.DataFrame(scaled_data, columns=numeric_data.columns)\n",
        "\n",
        "# Print the max and min values for all columns\n",
        "print(scaled_data_df.max(axis=0))\n",
        "print(scaled_data_df.min(axis=0))\n"
      ]
    },
    {
      "cell_type": "code",
      "execution_count": 27,
      "metadata": {
        "colab": {
          "base_uri": "https://localhost:8080/"
        },
        "id": "fLGF1TEvn_bL",
        "outputId": "6232f07c-0ad7-460c-8785-a9de0acec701"
      },
      "outputs": [
        {
          "output_type": "stream",
          "name": "stdout",
          "text": [
            "        Age    fnlwgt  Education_Num  Capital_Gain  Capital_Loss  \\\n",
            "0  0.029050 -1.062152       1.134136      0.149031     -0.216957   \n",
            "1  0.834363 -1.007377       1.134136     -0.146177     -0.216957   \n",
            "2 -0.044160  0.243483      -0.420668     -0.146177     -0.216957   \n",
            "3  1.053994  0.423784      -1.198070     -0.146177     -0.216957   \n",
            "4 -0.776263  1.403866       1.134136     -0.146177     -0.216957   \n",
            "\n",
            "   Hours_per_week  \n",
            "0       -0.034641  \n",
            "1       -2.218354  \n",
            "2       -0.034641  \n",
            "3       -0.034641  \n",
            "4       -0.034641  \n"
          ]
        }
      ],
      "source": [
        "# prompt:\n",
        "\n",
        "# Import the necessary libraries\n",
        "import pandas as pd\n",
        "\n",
        "# Load the dataset\n",
        "data = pd.read_csv('https://raw.githubusercontent.com/tkseneee/Dataset/dd7313e0c6487acd9ed7cd32b786782c7a1d3885/HR_data.csv')\n",
        "\n",
        "# Select only the numeric columns\n",
        "numeric_data = data.select_dtypes(include=np.number)\n",
        "\n",
        "# Standardize the data\n",
        "scaler = StandardScaler()\n",
        "scaler.fit(numeric_data)\n",
        "scaled_data = scaler.transform(numeric_data)\n",
        "\n",
        "# Convert the scaled data back to a DataFrame\n",
        "scaled_data_df = pd.DataFrame(scaled_data, columns=numeric_data.columns)\n",
        "\n",
        "# Print the head of the scaled data\n",
        "print(scaled_data_df.head())\n"
      ]
    },
    {
      "cell_type": "code",
      "execution_count": 28,
      "metadata": {
        "colab": {
          "base_uri": "https://localhost:8080/"
        },
        "id": "4qxnvUxMoEOv",
        "outputId": "608790c7-3e30-4def-c0d2-fac94dbb735c"
      },
      "outputs": [
        {
          "output_type": "stream",
          "name": "stdout",
          "text": [
            "The file contains the string 'Sales'\n"
          ]
        }
      ],
      "source": [
        "# prompt:\n",
        "\n",
        "import pandas as pd\n",
        "\n",
        "# Load the data\n",
        "data = pd.read_csv('https://raw.githubusercontent.com/tkseneee/Dataset/dd7313e0c6487acd9ed7cd32b786782c7a1d3885/HR_data.csv')\n",
        "\n",
        "# Open the file\n",
        "with open('HR_data.csv', 'r') as f:\n",
        "  # Read the contents of the file\n",
        "  contents = f.read()\n",
        "\n",
        "  # Search for the string \"Sales\"\n",
        "  if \"Sales\" in contents:\n",
        "    print(\"The file contains the string 'Sales'\")\n",
        "  else:\n",
        "    print(\"The file does not contain the string 'Sales'\")\n"
      ]
    },
    {
      "cell_type": "markdown",
      "metadata": {
        "id": "OzHiHGPxeFy2"
      },
      "source": [
        "### 10. Apply Robust Scaler to scale the data"
      ]
    },
    {
      "cell_type": "code",
      "execution_count": 29,
      "metadata": {
        "colab": {
          "base_uri": "https://localhost:8080/"
        },
        "id": "7-xwmkfFnzn0",
        "outputId": "046020d3-31c5-449e-b71a-c39b6555744c"
      },
      "outputs": [
        {
          "output_type": "stream",
          "name": "stdout",
          "text": [
            "    Age    fnlwgt  Education_Num  Capital_Gain  Capital_Loss  Hours_per_week\n",
            "0  0.10 -0.841482       1.000000        2174.0           0.0             0.0\n",
            "1  0.65 -0.793073       1.000000           0.0           0.0            -5.4\n",
            "2  0.05  0.312399      -0.333333           0.0           0.0             0.0\n",
            "3  0.80  0.471744      -1.000000           0.0           0.0             0.0\n",
            "4 -0.45  1.337911       1.000000           0.0           0.0             0.0\n"
          ]
        }
      ],
      "source": [
        "# prompt:\n",
        "\n",
        "from sklearn.preprocessing import RobustScaler\n",
        "\n",
        "# Load the data\n",
        "data = pd.read_csv('https://raw.githubusercontent.com/tkseneee/Dataset/dd7313e0c6487acd9ed7cd32b786782c7a1d3885/HR_data.csv')\n",
        "\n",
        "# Select only the numeric columns\n",
        "numeric_data = data.select_dtypes(include=np.number)\n",
        "\n",
        "# Create a RobustScaler object\n",
        "scaler = RobustScaler()\n",
        "\n",
        "# Fit the scaler to the numeric data\n",
        "scaler.fit(numeric_data)\n",
        "\n",
        "# Transform the numeric data\n",
        "scaled_data = scaler.transform(numeric_data)\n",
        "\n",
        "# Convert the scaled data back to a DataFrame\n",
        "scaled_data_df = pd.DataFrame(scaled_data, columns=numeric_data.columns)\n",
        "\n",
        "# Print the head of the scaled data\n",
        "print(scaled_data_df.head())\n"
      ]
    },
    {
      "cell_type": "markdown",
      "metadata": {
        "id": "DwHOzqkceFy2"
      },
      "source": [
        "### 11. Will scaling change the shape of the distribution ?\n",
        "// Need not consider Normalizer"
      ]
    },
    {
      "cell_type": "code",
      "source": [
        "# prompt:\n",
        "\n",
        "import pandas as pd\n",
        "import numpy as np\n",
        "import seaborn as sb\n",
        "import matplotlib.pyplot as plt\n",
        "import warnings\n",
        "from sklearn.preprocessing import StandardScaler\n",
        "from sklearn.preprocessing import MinMaxScaler\n",
        "from sklearn.preprocessing import RobustScaler\n",
        "\n",
        "# Load the dataset\n",
        "data = pd.read_csv('https://raw.githubusercontent.com/tkseneee/Dataset/dd7313e0c6487acd9ed7cd32b786782c7a1d3885/HR_data.csv')\n",
        "\n",
        "# Select only the numeric columns\n",
        "numeric_data = data.select_dtypes(include=np.number)\n",
        "\n",
        "# Create a StandardScaler object\n",
        "scaler = StandardScaler()\n",
        "\n",
        "# Fit the scaler to the numeric data\n",
        "scaler.fit(numeric_data)\n",
        "\n",
        "# Transform the numeric data\n",
        "scaled_data = scaler.transform(numeric_data)\n",
        "\n",
        "# Convert the scaled data back to a DataFrame\n",
        "scaled_data_df = pd.DataFrame(scaled_data, columns=numeric_data.columns)\n",
        "\n",
        "# Plot the distribution of the original and scaled data\n",
        "plt.figure(figsize=(15, 5))\n",
        "\n",
        "plt.subplot(1, 2, 1)\n",
        "sb.distplot(numeric_data['Age'])\n",
        "plt.title('Original Data')\n",
        "\n",
        "plt.subplot(1, 2, 2)\n",
        "sb.distplot(scaled_data_df['Age'])\n",
        "plt.title('Scaled Data')\n",
        "\n",
        "plt.show()\n"
      ],
      "metadata": {
        "colab": {
          "base_uri": "https://localhost:8080/",
          "height": 451
        },
        "id": "zYWKLleR2gUB",
        "outputId": "4b1073e3-493f-4490-eeb4-e63e1737f5db"
      },
      "execution_count": 30,
      "outputs": [
        {
          "output_type": "display_data",
          "data": {
            "text/plain": [
              "<Figure size 1500x500 with 2 Axes>"
            ],
            "image/png": "[encoded data removed]"
          },
          "metadata": {}
        }
      ]
    }
  ],
  "metadata": {
    "colab": {
      "provenance": [],
      "include_colab_link": true
    },
    "kernelspec": {
      "display_name": "Python 3",
      "language": "python",
      "name": "python3"
    },
    "language_info": {
      "codemirror_mode": {
        "name": "ipython",
        "version": 3
      },
      "file_extension": ".py",
      "mimetype": "text/x-python",
      "name": "python",
      "nbconvert_exporter": "python",
      "pygments_lexer": "ipython3",
      "version": "3.6.13"
    }
  },
  "nbformat": 4,
  "nbformat_minor": 0
}